{
 "cells": [
  {
   "cell_type": "code",
   "execution_count": 54,
   "metadata": {
    "collapsed": true
   },
   "outputs": [],
   "source": [
    "import numpy\n",
    "import pandas as pd\n",
    "import numpy as np\n",
    "import seaborn as sns\n",
    "import matplotlib.pyplot as plt\n",
    "from sklearn.preprocessing import StandardScaler, OrdinalEncoder, OneHotEncoder\n",
    "import gower\n",
    "from scipy import stats\n",
    "from sklearn_extra.cluster import KMedoids\n",
    "plt.style.use('dark_background')\n",
    "from IPython.core.display import display"
   ]
  },
  {
   "cell_type": "code",
   "execution_count": 54,
   "outputs": [],
   "source": [],
   "metadata": {
    "collapsed": false,
    "pycharm": {
     "name": "#%%\n"
    }
   }
  },
  {
   "cell_type": "code",
   "execution_count": 55,
   "outputs": [],
   "source": [
    "def correlation_ratio(categories, values):\n",
    "    cat = pd.factorize(categories)[0]\n",
    "    values = np.array(values)\n",
    "\n",
    "    ssw = 0\n",
    "    ssb = 0\n",
    "    for i in np.unique(cat):\n",
    "        subgroup = values[np.argwhere(cat == i).flatten()]\n",
    "        ssw += np.sum((subgroup-np.mean(subgroup))**2)\n",
    "        ssb += len(subgroup)*(np.mean(subgroup)-np.mean(values))**2\n",
    "\n",
    "    return (ssb / (ssb + ssw))**.5"
   ],
   "metadata": {
    "collapsed": false,
    "pycharm": {
     "name": "#%%\n"
    }
   }
  },
  {
   "cell_type": "code",
   "execution_count": 56,
   "outputs": [],
   "source": [
    "def get_cramers_v(contingency_table):\n",
    "    \"\"\" variation of cramers v that adjusts for bias\n",
    "    via using a smaller mean-squared error.\n",
    "    It calculates and returns this statistic\"\"\"\n",
    "\n",
    "    chi2, p, dof, expected = stats.chi2_contingency(contingency_table)\n",
    "    number_of_obs = np.sum(contingency_table).sum()\n",
    "    phi2 = chi2 / number_of_obs\n",
    "    row, column = contingency_table.shape\n",
    "    mini = min(row, column)-1\n",
    "\n",
    "    cramers_v = np.sqrt(phi2 / mini)\n",
    "    return cramers_v"
   ],
   "metadata": {
    "collapsed": false,
    "pycharm": {
     "name": "#%%\n"
    }
   }
  },
  {
   "cell_type": "code",
   "execution_count": 57,
   "outputs": [],
   "source": [
    "sleep = pd.read_csv('../data/SleepStudyData.csv')"
   ],
   "metadata": {
    "collapsed": false,
    "pycharm": {
     "name": "#%%\n"
    }
   }
  },
  {
   "cell_type": "markdown",
   "source": [
    "Description of data\n",
    "\n",
    "- Enough = Do you think that you get enough sleep?\n",
    "- Hours = On average, how many hours of sleep do you get on a weeknight?\n",
    "- PhoneReach = Do you sleep with your phone within arms reach?\n",
    "- PhoneTime = Do you use your phone within 30 minutes of falling asleep?\n",
    "- Tired = On a scale from 1 to 5, how tired are you throughout the day? (1 being not tired, 5 being very tired)\n",
    "- Breakfast = Do you typically eat breakfast?\n"
   ],
   "metadata": {
    "collapsed": false,
    "pycharm": {
     "name": "#%% md\n"
    }
   }
  },
  {
   "cell_type": "code",
   "execution_count": 58,
   "outputs": [
    {
     "data": {
      "text/plain": "  Enough  Hours PhoneReach PhoneTime  Tired Breakfast\n0    Yes    8.0        Yes       Yes      3       Yes\n1     No    6.0        Yes       Yes      3        No\n2    Yes    6.0        Yes       Yes      2       Yes\n3     No    7.0        Yes       Yes      4        No\n4     No    7.0        Yes       Yes      2       Yes",
      "text/html": "<div>\n<style scoped>\n    .dataframe tbody tr th:only-of-type {\n        vertical-align: middle;\n    }\n\n    .dataframe tbody tr th {\n        vertical-align: top;\n    }\n\n    .dataframe thead th {\n        text-align: right;\n    }\n</style>\n<table border=\"1\" class=\"dataframe\">\n  <thead>\n    <tr style=\"text-align: right;\">\n      <th></th>\n      <th>Enough</th>\n      <th>Hours</th>\n      <th>PhoneReach</th>\n      <th>PhoneTime</th>\n      <th>Tired</th>\n      <th>Breakfast</th>\n    </tr>\n  </thead>\n  <tbody>\n    <tr>\n      <th>0</th>\n      <td>Yes</td>\n      <td>8.0</td>\n      <td>Yes</td>\n      <td>Yes</td>\n      <td>3</td>\n      <td>Yes</td>\n    </tr>\n    <tr>\n      <th>1</th>\n      <td>No</td>\n      <td>6.0</td>\n      <td>Yes</td>\n      <td>Yes</td>\n      <td>3</td>\n      <td>No</td>\n    </tr>\n    <tr>\n      <th>2</th>\n      <td>Yes</td>\n      <td>6.0</td>\n      <td>Yes</td>\n      <td>Yes</td>\n      <td>2</td>\n      <td>Yes</td>\n    </tr>\n    <tr>\n      <th>3</th>\n      <td>No</td>\n      <td>7.0</td>\n      <td>Yes</td>\n      <td>Yes</td>\n      <td>4</td>\n      <td>No</td>\n    </tr>\n    <tr>\n      <th>4</th>\n      <td>No</td>\n      <td>7.0</td>\n      <td>Yes</td>\n      <td>Yes</td>\n      <td>2</td>\n      <td>Yes</td>\n    </tr>\n  </tbody>\n</table>\n</div>"
     },
     "metadata": {},
     "output_type": "display_data"
    }
   ],
   "source": [
    "display(sleep.head())"
   ],
   "metadata": {
    "collapsed": false,
    "pycharm": {
     "name": "#%%\n"
    }
   }
  },
  {
   "cell_type": "code",
   "execution_count": 59,
   "outputs": [
    {
     "name": "stdout",
     "output_type": "stream",
     "text": [
      "(104, 6)\n",
      "Enough        0\n",
      "Hours         2\n",
      "PhoneReach    0\n",
      "PhoneTime     0\n",
      "Tired         0\n",
      "Breakfast     0\n",
      "dtype: int64\n",
      "\n",
      "\n",
      "Enough ['Yes' 'No']\n",
      "Hours [ 8.  6.  7.  4. 10.  9.  2.  5. nan]\n",
      "PhoneReach ['Yes' 'No']\n",
      "PhoneTime ['Yes' 'No']\n",
      "Tired [3 2 4 5 1]\n",
      "Breakfast ['Yes' 'No']\n"
     ]
    }
   ],
   "source": [
    "# check for missing values\n",
    "\n",
    "print(sleep.shape)\n",
    "print(sleep.isnull().sum())\n",
    "print('\\n')\n",
    "\n",
    "# check whether any missing or error values\n",
    "for col in sleep.columns.tolist():\n",
    "    print(col, sleep[col].unique())"
   ],
   "metadata": {
    "collapsed": false,
    "pycharm": {
     "name": "#%%\n"
    }
   }
  },
  {
   "cell_type": "code",
   "execution_count": 60,
   "outputs": [
    {
     "name": "stdout",
     "output_type": "stream",
     "text": [
      "Enough        0.000000\n",
      "Hours         0.019231\n",
      "PhoneReach    0.000000\n",
      "PhoneTime     0.000000\n",
      "Tired         0.000000\n",
      "Breakfast     0.000000\n",
      "dtype: float64\n"
     ]
    },
    {
     "data": {
      "text/plain": "Enough        0\nHours         0\nPhoneReach    0\nPhoneTime     0\nTired         0\nBreakfast     0\ndtype: int64"
     },
     "execution_count": 60,
     "metadata": {},
     "output_type": "execute_result"
    }
   ],
   "source": [
    "# check where missing values in sleep\n",
    "\n",
    "missing_hours = sleep.loc[sleep['Hours'].isnull()]\n",
    "print(sleep.isnull().sum() / len(sleep))\n",
    "\n",
    "# decide to drop this missing values as its < 2% of total records\n",
    "sleep.drop(missing_hours.index, inplace=True)\n",
    "sleep.isnull().sum()"
   ],
   "metadata": {
    "collapsed": false,
    "pycharm": {
     "name": "#%%\n"
    }
   }
  },
  {
   "cell_type": "code",
   "execution_count": 61,
   "outputs": [
    {
     "data": {
      "text/plain": "Enough         object\nHours         float64\nPhoneReach     object\nPhoneTime      object\nTired           int64\nBreakfast      object\ndtype: object"
     },
     "execution_count": 61,
     "metadata": {},
     "output_type": "execute_result"
    }
   ],
   "source": [
    "# check dtypes and see if any conversion needed\n",
    "sleep.dtypes\n"
   ],
   "metadata": {
    "collapsed": false,
    "pycharm": {
     "name": "#%%\n"
    }
   }
  },
  {
   "cell_type": "markdown",
   "source": [
    "Dtypes were checked to make sure there would not be any interference in future options with data.\n",
    "\n",
    "Often I would convert object to string dtype but because intent of this notebook is storytelling and object dtype will\n",
    "not disrupt other operations this will not be changed for now.\n",
    "\n",
    "Next step is look at column distributions indvidually before proceeding wiht more eda operations"
   ],
   "metadata": {
    "collapsed": false,
    "pycharm": {
     "name": "#%% md\n"
    }
   }
  },
  {
   "cell_type": "code",
   "execution_count": 62,
   "outputs": [
    {
     "data": {
      "text/plain": "<Figure size 432x288 with 1 Axes>",
      "image/png": "[encoded data removed]"
     },
     "metadata": {},
     "output_type": "display_data"
    },
    {
     "data": {
      "text/plain": "<Figure size 432x288 with 1 Axes>",
      "image/png": "[encoded data removed]"
     },
     "metadata": {},
     "output_type": "display_data"
    },
    {
     "data": {
      "text/plain": "<Figure size 432x288 with 1 Axes>",
      "image/png": "[encoded data removed]"
     },
     "metadata": {},
     "output_type": "display_data"
    },
    {
     "data": {
      "text/plain": "<Figure size 432x288 with 1 Axes>",
      "image/png": "[encoded data removed]"
     },
     "metadata": {},
     "output_type": "display_data"
    },
    {
     "data": {
      "text/plain": "<Figure size 432x288 with 1 Axes>",
      "image/png": "[encoded data removed]"
     },
     "metadata": {},
     "output_type": "display_data"
    },
    {
     "data": {
      "text/plain": "<Figure size 432x288 with 1 Axes>",
      "image/png": "[encoded data removed]"
     },
     "metadata": {},
     "output_type": "display_data"
    }
   ],
   "source": [
    "# make plots to show distribution of column data\n",
    "sleep_columns = sleep.columns.tolist()\n",
    "\n",
    "for col in sleep_columns:\n",
    "    sns.countplot(data=sleep, x=col)\n",
    "    plt.show()"
   ],
   "metadata": {
    "collapsed": false,
    "pycharm": {
     "name": "#%%\n"
    }
   }
  },
  {
   "cell_type": "markdown",
   "source": [
    "* distribution viewing gives us a little bit context in our problem (?q question would there be a better way to present\n",
    "this info in a more digestible manner rather than many countplots?) (perhaps do one plot of boxplots?)\n",
    "* It appears that hours and tired have normal distributions\n",
    "* whereas in the nominal columns we have some skew\n",
    "* PhoneReach, PhoneTime, Breakfast tend to be yes whereas Enough sleep tend to be No\n",
    "\n",
    "Next will try to perform some clustering\n",
    "* b/c our data is mixed types and not all continuous we cannot necessarily use kmeans clustering and need another\n",
    "metric for distance\n",
    "* we will use gower distance which is a metric that can be used to calculate the distance between two entities whose\n",
    "attributes are a mix of categorical and quantitative values (distance is scaled between 0 and 1 range)"
   ],
   "metadata": {
    "collapsed": false,
    "pycharm": {
     "name": "#%% md\n"
    }
   }
  },
  {
   "cell_type": "code",
   "execution_count": 63,
   "outputs": [
    {
     "data": {
      "text/plain": "    Enough  Hours PhoneReach PhoneTime  Tired Breakfast\n0      Yes    8.0        Yes       Yes      3       Yes\n1       No    6.0        Yes       Yes      3        No\n2      Yes    6.0        Yes       Yes      2       Yes\n3       No    7.0        Yes       Yes      4        No\n4       No    7.0        Yes       Yes      2       Yes\n..     ...    ...        ...       ...    ...       ...\n99      No    7.0        Yes       Yes      2       Yes\n100     No    7.0         No       Yes      3       Yes\n101    Yes    8.0        Yes       Yes      3       Yes\n102    Yes    7.0        Yes       Yes      2       Yes\n103    Yes    6.0        Yes       Yes      3       Yes\n\n[102 rows x 6 columns]",
      "text/html": "<div>\n<style scoped>\n    .dataframe tbody tr th:only-of-type {\n        vertical-align: middle;\n    }\n\n    .dataframe tbody tr th {\n        vertical-align: top;\n    }\n\n    .dataframe thead th {\n        text-align: right;\n    }\n</style>\n<table border=\"1\" class=\"dataframe\">\n  <thead>\n    <tr style=\"text-align: right;\">\n      <th></th>\n      <th>Enough</th>\n      <th>Hours</th>\n      <th>PhoneReach</th>\n      <th>PhoneTime</th>\n      <th>Tired</th>\n      <th>Breakfast</th>\n    </tr>\n  </thead>\n  <tbody>\n    <tr>\n      <th>0</th>\n      <td>Yes</td>\n      <td>8.0</td>\n      <td>Yes</td>\n      <td>Yes</td>\n      <td>3</td>\n      <td>Yes</td>\n    </tr>\n    <tr>\n      <th>1</th>\n      <td>No</td>\n      <td>6.0</td>\n      <td>Yes</td>\n      <td>Yes</td>\n      <td>3</td>\n      <td>No</td>\n    </tr>\n    <tr>\n      <th>2</th>\n      <td>Yes</td>\n      <td>6.0</td>\n      <td>Yes</td>\n      <td>Yes</td>\n      <td>2</td>\n      <td>Yes</td>\n    </tr>\n    <tr>\n      <th>3</th>\n      <td>No</td>\n      <td>7.0</td>\n      <td>Yes</td>\n      <td>Yes</td>\n      <td>4</td>\n      <td>No</td>\n    </tr>\n    <tr>\n      <th>4</th>\n      <td>No</td>\n      <td>7.0</td>\n      <td>Yes</td>\n      <td>Yes</td>\n      <td>2</td>\n      <td>Yes</td>\n    </tr>\n    <tr>\n      <th>...</th>\n      <td>...</td>\n      <td>...</td>\n      <td>...</td>\n      <td>...</td>\n      <td>...</td>\n      <td>...</td>\n    </tr>\n    <tr>\n      <th>99</th>\n      <td>No</td>\n      <td>7.0</td>\n      <td>Yes</td>\n      <td>Yes</td>\n      <td>2</td>\n      <td>Yes</td>\n    </tr>\n    <tr>\n      <th>100</th>\n      <td>No</td>\n      <td>7.0</td>\n      <td>No</td>\n      <td>Yes</td>\n      <td>3</td>\n      <td>Yes</td>\n    </tr>\n    <tr>\n      <th>101</th>\n      <td>Yes</td>\n      <td>8.0</td>\n      <td>Yes</td>\n      <td>Yes</td>\n      <td>3</td>\n      <td>Yes</td>\n    </tr>\n    <tr>\n      <th>102</th>\n      <td>Yes</td>\n      <td>7.0</td>\n      <td>Yes</td>\n      <td>Yes</td>\n      <td>2</td>\n      <td>Yes</td>\n    </tr>\n    <tr>\n      <th>103</th>\n      <td>Yes</td>\n      <td>6.0</td>\n      <td>Yes</td>\n      <td>Yes</td>\n      <td>3</td>\n      <td>Yes</td>\n    </tr>\n  </tbody>\n</table>\n<p>102 rows × 6 columns</p>\n</div>"
     },
     "metadata": {},
     "output_type": "display_data"
    },
    {
     "data": {
      "text/plain": "  Enough  Hours PhoneReach PhoneTime  Tired Breakfast\n0    Yes    8.0        Yes       Yes      3       Yes",
      "text/html": "<div>\n<style scoped>\n    .dataframe tbody tr th:only-of-type {\n        vertical-align: middle;\n    }\n\n    .dataframe tbody tr th {\n        vertical-align: top;\n    }\n\n    .dataframe thead th {\n        text-align: right;\n    }\n</style>\n<table border=\"1\" class=\"dataframe\">\n  <thead>\n    <tr style=\"text-align: right;\">\n      <th></th>\n      <th>Enough</th>\n      <th>Hours</th>\n      <th>PhoneReach</th>\n      <th>PhoneTime</th>\n      <th>Tired</th>\n      <th>Breakfast</th>\n    </tr>\n  </thead>\n  <tbody>\n    <tr>\n      <th>0</th>\n      <td>Yes</td>\n      <td>8.0</td>\n      <td>Yes</td>\n      <td>Yes</td>\n      <td>3</td>\n      <td>Yes</td>\n    </tr>\n  </tbody>\n</table>\n</div>"
     },
     "execution_count": 63,
     "metadata": {},
     "output_type": "execute_result"
    }
   ],
   "source": [
    "# perform clustering than perform correlation and cramers v\n",
    "sleep\n",
    "X = sleep\n",
    "display(X)\n",
    "\n",
    "y = X.iloc[0:1, :]\n",
    "y"
   ],
   "metadata": {
    "collapsed": false,
    "pycharm": {
     "name": "#%%\n"
    }
   }
  },
  {
   "cell_type": "code",
   "execution_count": 64,
   "outputs": [
    {
     "data": {
      "text/plain": "array([[0.        , 0.375     , 0.08333334, ..., 0.        , 0.0625    ,\n        0.04166667],\n       [0.375     , 0.        , 0.375     , ..., 0.375     , 0.39583334,\n        0.33333334],\n       [0.08333334, 0.375     , 0.        , ..., 0.08333334, 0.02083333,\n        0.04166667],\n       ...,\n       [0.        , 0.375     , 0.08333334, ..., 0.        , 0.0625    ,\n        0.04166667],\n       [0.0625    , 0.39583334, 0.02083333, ..., 0.0625    , 0.        ,\n        0.0625    ],\n       [0.04166667, 0.33333334, 0.04166667, ..., 0.04166667, 0.0625    ,\n        0.        ]], dtype=float32)"
     },
     "execution_count": 64,
     "metadata": {},
     "output_type": "execute_result"
    }
   ],
   "source": [
    "# compute distance matrix\n",
    "cat_features = []\n",
    "cat_columns = []\n",
    "for col in sleep_columns:\n",
    "    if sleep[col].dtype == 'object':\n",
    "        cat_features.append(True)\n",
    "        cat_columns.append(col)\n",
    "    else:\n",
    "        cat_features.append(False)\n",
    "\n",
    "distance_matrix = gower.gower_matrix(X, cat_features=cat_features)\n",
    "distance_matrix"
   ],
   "metadata": {
    "collapsed": false,
    "pycharm": {
     "name": "#%%\n"
    }
   }
  },
  {
   "cell_type": "markdown",
   "source": [
    "* Gower distance interprets distance from row 1 to row 2 is .375 and distance from row 1 to row 3 is .083 etc..\n"
   ],
   "metadata": {
    "collapsed": false,
    "pycharm": {
     "name": "#%% md\n"
    }
   }
  },
  {
   "cell_type": "code",
   "execution_count": 65,
   "outputs": [
    {
     "name": "stderr",
     "output_type": "stream",
     "text": [
      "<ipython-input-65-f4a5528b2e7c>:2: ClusterWarning: scipy.cluster: The symmetric non-negative hollow observation matrix looks suspiciously like an uncondensed distance matrix\n",
      "  Zd = linkage(distance_matrix)\n"
     ]
    },
    {
     "data": {
      "text/plain": "{'icoord': [[15.0, 15.0, 25.0, 25.0],\n  [45.0, 45.0, 55.0, 55.0],\n  [35.0, 35.0, 50.0, 50.0],\n  [85.0, 85.0, 95.0, 95.0],\n  [75.0, 75.0, 90.0, 90.0],\n  [65.0, 65.0, 82.5, 82.5],\n  [42.5, 42.5, 73.75, 73.75],\n  [105.0, 105.0, 115.0, 115.0],\n  [58.125, 58.125, 110.0, 110.0],\n  [20.0, 20.0, 84.0625, 84.0625],\n  [125.0, 125.0, 135.0, 135.0],\n  [145.0, 145.0, 155.0, 155.0],\n  [130.0, 130.0, 150.0, 150.0],\n  [175.0, 175.0, 185.0, 185.0],\n  [195.0, 195.0, 205.0, 205.0],\n  [225.0, 225.0, 235.0, 235.0],\n  [215.0, 215.0, 230.0, 230.0],\n  [200.0, 200.0, 222.5, 222.5],\n  [180.0, 180.0, 211.25, 211.25],\n  [165.0, 165.0, 195.625, 195.625],\n  [140.0, 140.0, 180.3125, 180.3125],\n  [265.0, 265.0, 275.0, 275.0],\n  [295.0, 295.0, 305.0, 305.0],\n  [285.0, 285.0, 300.0, 300.0],\n  [315.0, 315.0, 325.0, 325.0],\n  [292.5, 292.5, 320.0, 320.0],\n  [345.0, 345.0, 355.0, 355.0],\n  [335.0, 335.0, 350.0, 350.0],\n  [306.25, 306.25, 342.5, 342.5],\n  [270.0, 270.0, 324.375, 324.375],\n  [255.0, 255.0, 297.1875, 297.1875],\n  [245.0, 245.0, 276.09375, 276.09375],\n  [395.0, 395.0, 405.0, 405.0],\n  [385.0, 385.0, 400.0, 400.0],\n  [375.0, 375.0, 392.5, 392.5],\n  [365.0, 365.0, 383.75, 383.75],\n  [415.0, 415.0, 425.0, 425.0],\n  [445.0, 445.0, 455.0, 455.0],\n  [435.0, 435.0, 450.0, 450.0],\n  [485.0, 485.0, 495.0, 495.0],\n  [475.0, 475.0, 490.0, 490.0],\n  [465.0, 465.0, 482.5, 482.5],\n  [535.0, 535.0, 545.0, 545.0],\n  [525.0, 525.0, 540.0, 540.0],\n  [515.0, 515.0, 532.5, 532.5],\n  [505.0, 505.0, 523.75, 523.75],\n  [555.0, 555.0, 565.0, 565.0],\n  [514.375, 514.375, 560.0, 560.0],\n  [473.75, 473.75, 537.1875, 537.1875],\n  [595.0, 595.0, 605.0, 605.0],\n  [585.0, 585.0, 600.0, 600.0],\n  [575.0, 575.0, 592.5, 592.5],\n  [505.46875, 505.46875, 583.75, 583.75],\n  [442.5, 442.5, 544.609375, 544.609375],\n  [420.0, 420.0, 493.5546875, 493.5546875],\n  [374.375, 374.375, 456.77734375, 456.77734375],\n  [260.546875, 260.546875, 415.576171875, 415.576171875],\n  [160.15625, 160.15625, 338.0615234375, 338.0615234375],\n  [52.03125, 52.03125, 249.10888671875, 249.10888671875],\n  [615.0, 615.0, 625.0, 625.0],\n  [645.0, 645.0, 655.0, 655.0],\n  [635.0, 635.0, 650.0, 650.0],\n  [665.0, 665.0, 675.0, 675.0],\n  [685.0, 685.0, 695.0, 695.0],\n  [670.0, 670.0, 690.0, 690.0],\n  [642.5, 642.5, 680.0, 680.0],\n  [705.0, 705.0, 715.0, 715.0],\n  [745.0, 745.0, 755.0, 755.0],\n  [735.0, 735.0, 750.0, 750.0],\n  [725.0, 725.0, 742.5, 742.5],\n  [775.0, 775.0, 785.0, 785.0],\n  [765.0, 765.0, 780.0, 780.0],\n  [733.75, 733.75, 772.5, 772.5],\n  [710.0, 710.0, 753.125, 753.125],\n  [795.0, 795.0, 805.0, 805.0],\n  [825.0, 825.0, 835.0, 835.0],\n  [845.0, 845.0, 855.0, 855.0],\n  [865.0, 865.0, 875.0, 875.0],\n  [850.0, 850.0, 870.0, 870.0],\n  [945.0, 945.0, 955.0, 955.0],\n  [935.0, 935.0, 950.0, 950.0],\n  [925.0, 925.0, 942.5, 942.5],\n  [915.0, 915.0, 933.75, 933.75],\n  [905.0, 905.0, 924.375, 924.375],\n  [895.0, 895.0, 914.6875, 914.6875],\n  [885.0, 885.0, 904.84375, 904.84375],\n  [985.0, 985.0, 995.0, 995.0],\n  [975.0, 975.0, 990.0, 990.0],\n  [965.0, 965.0, 982.5, 982.5],\n  [1005.0, 1005.0, 1015.0, 1015.0],\n  [973.75, 973.75, 1010.0, 1010.0],\n  [894.921875, 894.921875, 991.875, 991.875],\n  [860.0, 860.0, 943.3984375, 943.3984375],\n  [830.0, 830.0, 901.69921875, 901.69921875],\n  [815.0, 815.0, 865.849609375, 865.849609375],\n  [800.0, 800.0, 840.4248046875, 840.4248046875],\n  [731.5625, 731.5625, 820.21240234375, 820.21240234375],\n  [661.25, 661.25, 775.887451171875, 775.887451171875],\n  [620.0, 620.0, 718.5687255859375, 718.5687255859375],\n  [150.570068359375, 150.570068359375, 669.2843627929688, 669.2843627929688],\n  [5.0, 5.0, 409.9272155761719, 409.9272155761719]],\n 'dcoord': [[0.0, 0.21040632152961586, 0.21040632152961586, 0.0],\n  [0.0, 0.0, 0.0, 0.0],\n  [0.0, 0.0, 0.0, 0.0],\n  [0.0, 0.0, 0.0, 0.0],\n  [0.0, 0.21040632300504114, 0.21040632300504114, 0.0],\n  [0.0, 0.2104063421856902, 0.2104063421856902, 0.21040632300504114],\n  [0.0, 0.42081270576511404, 0.42081270576511404, 0.2104063421856902],\n  [0.0, 0.47048289771576596, 0.47048289771576596, 0.0],\n  [0.42081270576511404,\n   0.509459132914698,\n   0.509459132914698,\n   0.47048289771576596],\n  [0.21040632152961586,\n   0.5229125040423946,\n   0.5229125040423946,\n   0.509459132914698],\n  [0.0, 0.0, 0.0, 0.0],\n  [0.0, 0.21040630788187772, 0.21040630788187772, 0.0],\n  [0.0, 0.2104063831290923, 0.2104063831290923, 0.21040630788187772],\n  [0.0, 0.2104063842356365, 0.2104063842356365, 0.0],\n  [0.0, 0.0, 0.0, 0.0],\n  [0.0, 0.0, 0.0, 0.0],\n  [0.0, 0.2871676733265677, 0.2871676733265677, 0.0],\n  [0.0, 0.38640075966566245, 0.38640075966566245, 0.2871676733265677],\n  [0.2104063842356365,\n   0.4156236923793686,\n   0.4156236923793686,\n   0.38640075966566245],\n  [0.0, 0.49212552011825084, 0.49212552011825084, 0.4156236923793686],\n  [0.2104063831290923,\n   1.4526675785305945,\n   1.4526675785305945,\n   0.49212552011825084],\n  [0.0, 0.21040635177601286, 0.21040635177601286, 0.0],\n  [0.0, 0.0, 0.0, 0.0],\n  [0.0, 0.0, 0.0, 0.0],\n  [0.0, 0.21040633573066173, 0.21040633573066173, 0.0],\n  [0.0, 0.21040635454244783, 0.21040635454244783, 0.21040633573066173],\n  [0.0, 0.2104063479029979, 0.2104063479029979, 0.0],\n  [0.0, 0.21040638405115414, 0.21040638405115414, 0.2104063479029979],\n  [0.21040635454244783,\n   0.41562370152923256,\n   0.41562370152923256,\n   0.21040638405115414],\n  [0.21040635177601286,\n   0.42081271959730865,\n   0.42081271959730865,\n   0.41562370152923256],\n  [0.0, 0.6002025078316651, 0.6002025078316651, 0.42081271959730865],\n  [0.0, 1.3969212508177988, 1.3969212508177988, 0.6002025078316651],\n  [0.0, 0.3679900103668504, 0.3679900103668504, 0.0],\n  [0.0, 0.41142537957327696, 0.41142537957327696, 0.3679900103668504],\n  [0.0, 0.4208127238391895, 0.4208127238391895, 0.41142537957327696],\n  [0.0, 0.506896868134212, 0.506896868134212, 0.4208127238391895],\n  [0.0, 0.0, 0.0, 0.0],\n  [0.0, 0.0, 0.0, 0.0],\n  [0.0, 0.0, 0.0, 0.0],\n  [0.0, 0.0, 0.0, 0.0],\n  [0.0, 0.0, 0.0, 0.0],\n  [0.0, 0.0, 0.0, 0.0],\n  [0.0, 0.0, 0.0, 0.0],\n  [0.0, 0.0, 0.0, 0.0],\n  [0.0, 0.0, 0.0, 0.0],\n  [0.0, 0.0, 0.0, 0.0],\n  [0.0, 0.21040634384554316, 0.21040634384554316, 0.0],\n  [0.0, 0.21040634937842972, 0.21040634937842972, 0.21040634384554316],\n  [0.0, 0.2104063576777432, 0.2104063576777432, 0.21040634937842972],\n  [0.0, 0.0, 0.0, 0.0],\n  [0.0, 0.21040636671478144, 0.21040636671478144, 0.0],\n  [0.0, 0.36799002112289636, 0.36799002112289636, 0.21040636671478144],\n  [0.2104063576777432,\n   0.40289749618618703,\n   0.40289749618618703,\n   0.36799002112289636],\n  [0.0, 0.4156237016225906, 0.4156237016225906, 0.40289749618618703],\n  [0.0, 0.5229125021871494, 0.5229125021871494, 0.4156237016225906],\n  [0.506896868134212,\n   1.4077538372866545,\n   1.4077538372866545,\n   0.5229125021871494],\n  [1.3969212508177988,\n   1.5008677987874917,\n   1.5008677987874917,\n   1.4077538372866545],\n  [1.4526675785305945,\n   1.5297966488667896,\n   1.5297966488667896,\n   1.5008677987874917],\n  [0.5229125040423946,\n   1.5540046975976551,\n   1.5540046975976551,\n   1.5297966488667896],\n  [0.0, 0.7264832045468951, 0.7264832045468951, 0.0],\n  [0.0, 0.38640076368273996, 0.38640076368273996, 0.0],\n  [0.0, 0.4279716491994984, 0.4279716491994984, 0.38640076368273996],\n  [0.0, 0.4208127352738286, 0.4208127352738286, 0.0],\n  [0.0, 0.5327796707196237, 0.5327796707196237, 0.0],\n  [0.4208127352738286,\n   0.6030881146240173,\n   0.6030881146240173,\n   0.5327796707196237],\n  [0.4279716491994984,\n   1.4704850806748413,\n   1.4704850806748413,\n   0.6030881146240173],\n  [0.0, 0.34105633378825406, 0.34105633378825406, 0.0],\n  [0.0, 0.0, 0.0, 0.0],\n  [0.0, 0.2104063425545618, 0.2104063425545618, 0.0],\n  [0.0, 0.210406344398863, 0.210406344398863, 0.2104063425545618],\n  [0.0, 0.0, 0.0, 0.0],\n  [0.0, 0.2104063526981925, 0.2104063526981925, 0.0],\n  [0.210406344398863,\n   0.41562370330318565,\n   0.41562370330318565,\n   0.2104063526981925],\n  [0.34105633378825406,\n   0.42081271148242905,\n   0.42081271148242905,\n   0.41562370330318565],\n  [0.0, 0.7406828658743008, 0.7406828658743008, 0.0],\n  [0.0, 0.27638540967965197, 0.27638540967965197, 0.0],\n  [0.0, 0.0, 0.0, 0.0],\n  [0.0, 0.21040635030058372, 0.21040635030058372, 0.0],\n  [0.0, 0.21040638460445504, 0.21040638460445504, 0.21040635030058372],\n  [0.0, 0.0, 0.0, 0.0],\n  [0.0, 0.0, 0.0, 0.0],\n  [0.0, 0.0, 0.0, 0.0],\n  [0.0, 0.0, 0.0, 0.0],\n  [0.0, 0.0, 0.0, 0.0],\n  [0.0, 0.0, 0.0, 0.0],\n  [0.0, 0.2104063510382942, 0.2104063510382942, 0.0],\n  [0.0, 0.0, 0.0, 0.0],\n  [0.0, 0.0, 0.0, 0.0],\n  [0.0, 0.0, 0.0, 0.0],\n  [0.0, 0.21040633259536673, 0.21040633259536673, 0.0],\n  [0.0, 0.21040636394835857, 0.21040636394835857, 0.21040633259536673],\n  [0.2104063510382942,\n   0.3985651351750774,\n   0.3985651351750774,\n   0.21040636394835857],\n  [0.21040638460445504,\n   0.4114253750459727,\n   0.4114253750459727,\n   0.3985651351750774],\n  [0.27638540967965197,\n   0.5424673492746447,\n   0.5424673492746447,\n   0.4114253750459727],\n  [0.0, 0.8447139614098959, 0.8447139614098959, 0.5424673492746447],\n  [0.7406828658743008,\n   1.3816128992227594,\n   1.3816128992227594,\n   0.8447139614098959],\n  [0.42081271148242905,\n   1.503179502418824,\n   1.503179502418824,\n   1.3816128992227594],\n  [1.4704850806748413,\n   1.513251648410257,\n   1.513251648410257,\n   1.503179502418824],\n  [0.7264832045468951,\n   1.5654139626522992,\n   1.5654139626522992,\n   1.513251648410257],\n  [1.5540046975976551,\n   1.5874398527528384,\n   1.5874398527528384,\n   1.5654139626522992],\n  [0.0, 1.6191132689132162, 1.6191132689132162, 1.5874398527528384]],\n 'ivl': ['47',\n  '8',\n  '55',\n  '89',\n  '41',\n  '52',\n  '31',\n  '48',\n  '34',\n  '98',\n  '72',\n  '85',\n  '29',\n  '91',\n  '36',\n  '82',\n  '69',\n  '14',\n  '88',\n  '90',\n  '93',\n  '37',\n  '40',\n  '83',\n  '28',\n  '46',\n  '16',\n  '73',\n  '99',\n  '0',\n  '17',\n  '6',\n  '101',\n  '2',\n  '30',\n  '100',\n  '58',\n  '86',\n  '87',\n  '22',\n  '23',\n  '21',\n  '49',\n  '97',\n  '4',\n  '11',\n  '77',\n  '68',\n  '9',\n  '43',\n  '66',\n  '61',\n  '54',\n  '7',\n  '35',\n  '18',\n  '51',\n  '70',\n  '75',\n  '64',\n  '94',\n  '65',\n  '67',\n  '74',\n  '25',\n  '57',\n  '44',\n  '62',\n  '33',\n  '81',\n  '76',\n  '92',\n  '79',\n  '12',\n  '15',\n  '19',\n  '13',\n  '59',\n  '95',\n  '38',\n  '50',\n  '20',\n  '10',\n  '63',\n  '24',\n  '53',\n  '27',\n  '39',\n  '42',\n  '96',\n  '84',\n  '80',\n  '60',\n  '56',\n  '1',\n  '26',\n  '78',\n  '45',\n  '3',\n  '5',\n  '32',\n  '71'],\n 'leaves': [47,\n  8,\n  55,\n  89,\n  41,\n  52,\n  31,\n  48,\n  34,\n  98,\n  72,\n  85,\n  29,\n  91,\n  36,\n  82,\n  69,\n  14,\n  88,\n  90,\n  93,\n  37,\n  40,\n  83,\n  28,\n  46,\n  16,\n  73,\n  99,\n  0,\n  17,\n  6,\n  101,\n  2,\n  30,\n  100,\n  58,\n  86,\n  87,\n  22,\n  23,\n  21,\n  49,\n  97,\n  4,\n  11,\n  77,\n  68,\n  9,\n  43,\n  66,\n  61,\n  54,\n  7,\n  35,\n  18,\n  51,\n  70,\n  75,\n  64,\n  94,\n  65,\n  67,\n  74,\n  25,\n  57,\n  44,\n  62,\n  33,\n  81,\n  76,\n  92,\n  79,\n  12,\n  15,\n  19,\n  13,\n  59,\n  95,\n  38,\n  50,\n  20,\n  10,\n  63,\n  24,\n  53,\n  27,\n  39,\n  42,\n  96,\n  84,\n  80,\n  60,\n  56,\n  1,\n  26,\n  78,\n  45,\n  3,\n  5,\n  32,\n  71],\n 'color_list': ['C1',\n  'C1',\n  'C1',\n  'C1',\n  'C1',\n  'C1',\n  'C1',\n  'C1',\n  'C1',\n  'C1',\n  'C2',\n  'C2',\n  'C2',\n  'C3',\n  'C3',\n  'C3',\n  'C3',\n  'C3',\n  'C3',\n  'C3',\n  'C0',\n  'C4',\n  'C4',\n  'C4',\n  'C4',\n  'C4',\n  'C4',\n  'C4',\n  'C4',\n  'C4',\n  'C4',\n  'C0',\n  'C5',\n  'C5',\n  'C5',\n  'C5',\n  'C6',\n  'C6',\n  'C6',\n  'C6',\n  'C6',\n  'C6',\n  'C6',\n  'C6',\n  'C6',\n  'C6',\n  'C6',\n  'C6',\n  'C6',\n  'C6',\n  'C6',\n  'C6',\n  'C6',\n  'C6',\n  'C6',\n  'C0',\n  'C0',\n  'C0',\n  'C0',\n  'C7',\n  'C8',\n  'C8',\n  'C9',\n  'C9',\n  'C9',\n  'C0',\n  'C1',\n  'C1',\n  'C1',\n  'C1',\n  'C1',\n  'C1',\n  'C1',\n  'C1',\n  'C2',\n  'C3',\n  'C3',\n  'C3',\n  'C3',\n  'C3',\n  'C3',\n  'C3',\n  'C3',\n  'C3',\n  'C3',\n  'C3',\n  'C3',\n  'C3',\n  'C3',\n  'C3',\n  'C3',\n  'C3',\n  'C3',\n  'C3',\n  'C3',\n  'C0',\n  'C0',\n  'C0',\n  'C0',\n  'C0',\n  'C0'],\n 'leaves_color_list': ['C0',\n  'C1',\n  'C1',\n  'C1',\n  'C1',\n  'C1',\n  'C1',\n  'C1',\n  'C1',\n  'C1',\n  'C1',\n  'C1',\n  'C2',\n  'C2',\n  'C2',\n  'C2',\n  'C3',\n  'C3',\n  'C3',\n  'C3',\n  'C3',\n  'C3',\n  'C3',\n  'C3',\n  'C0',\n  'C4',\n  'C4',\n  'C4',\n  'C4',\n  'C4',\n  'C4',\n  'C4',\n  'C4',\n  'C4',\n  'C4',\n  'C4',\n  'C5',\n  'C5',\n  'C5',\n  'C5',\n  'C5',\n  'C6',\n  'C6',\n  'C6',\n  'C6',\n  'C6',\n  'C6',\n  'C6',\n  'C6',\n  'C6',\n  'C6',\n  'C6',\n  'C6',\n  'C6',\n  'C6',\n  'C6',\n  'C6',\n  'C6',\n  'C6',\n  'C6',\n  'C6',\n  'C7',\n  'C7',\n  'C8',\n  'C8',\n  'C8',\n  'C9',\n  'C9',\n  'C9',\n  'C9',\n  'C1',\n  'C1',\n  'C1',\n  'C1',\n  'C1',\n  'C1',\n  'C1',\n  'C1',\n  'C1',\n  'C2',\n  'C2',\n  'C3',\n  'C3',\n  'C3',\n  'C3',\n  'C3',\n  'C3',\n  'C3',\n  'C3',\n  'C3',\n  'C3',\n  'C3',\n  'C3',\n  'C3',\n  'C3',\n  'C3',\n  'C3',\n  'C3',\n  'C3',\n  'C3',\n  'C3',\n  'C3']}"
     },
     "execution_count": 65,
     "metadata": {},
     "output_type": "execute_result"
    },
    {
     "data": {
      "text/plain": "<Figure size 1080x1080 with 1 Axes>",
      "image/png": "[encoded data removed]"
     },
     "metadata": {},
     "output_type": "display_data"
    }
   ],
   "source": [
    "from scipy.cluster.hierarchy import linkage, fcluster, dendrogram\n",
    "Zd = linkage(distance_matrix)\n",
    "plt.figure(figsize=(15,15))\n",
    "dendrogram(Zd)"
   ],
   "metadata": {
    "collapsed": false,
    "pycharm": {
     "name": "#%%\n"
    }
   }
  },
  {
   "cell_type": "code",
   "execution_count": 66,
   "outputs": [
    {
     "data": {
      "text/plain": "array([2, 1, 2, 1, 0, 1, 2, 0, 0, 0, 1, 0, 2, 2, 2, 2, 2, 2, 0, 2, 1, 0,\n       0, 0, 1, 1, 1, 1, 2, 2, 2, 0, 1, 1, 0, 0, 2, 2, 1, 1, 2, 0, 1, 0,\n       1, 1, 2, 0, 0, 0, 1, 0, 0, 1, 0, 0, 1, 1, 0, 2, 1, 0, 1, 1, 0, 2,\n       0, 2, 0, 2, 0, 1, 0, 2, 1, 0, 1, 0, 1, 1, 1, 1, 2, 2, 1, 0, 0, 0,\n       2, 0, 2, 2, 1, 2, 0, 2, 1, 0, 0, 2, 2, 2])"
     },
     "execution_count": 66,
     "metadata": {},
     "output_type": "execute_result"
    }
   ],
   "source": [
    "km_model = KMedoids(n_clusters=3, random_state=42, metric='precomputed', method='pam', init='k-medoids++').fit(distance_matrix)\n",
    "clusters = km_model.labels_\n",
    "clusters"
   ],
   "metadata": {
    "collapsed": false,
    "pycharm": {
     "name": "#%%\n"
    }
   }
  },
  {
   "cell_type": "markdown",
   "source": [
    "* go back to clustering example later.\n",
    "* perform similarity and relation between enough sleep and nominal and numerical variables\n",
    "* with nominal and numerical we can use eta coefficient test or point-biserial correlation\n",
    "* with nominal and nominal we can use cramers v\n",
    "\n",
    "* eta lets us know given a continuous value how well we can know which category it belongs to\n",
    "\n"
   ],
   "metadata": {
    "collapsed": false,
    "pycharm": {
     "name": "#%% md\n"
    }
   }
  },
  {
   "cell_type": "code",
   "execution_count": 76,
   "outputs": [],
   "source": [
    "num_columns = []\n",
    "for col in sleep_columns:\n",
    "    if sleep[col].dtype != 'object':\n",
    "        num_columns.append(col)"
   ],
   "metadata": {
    "collapsed": false,
    "pycharm": {
     "name": "#%%\n"
    }
   }
  },
  {
   "cell_type": "code",
   "execution_count": 68,
   "outputs": [
    {
     "data": {
      "text/plain": "[0.3807397400354657, 0.41041604537669063]"
     },
     "execution_count": 68,
     "metadata": {},
     "output_type": "execute_result"
    }
   ],
   "source": [
    "eta_coef_values = []\n",
    "for col in num_columns:\n",
    "    coef = correlation_ratio(sleep['Enough'], sleep[col])\n",
    "    eta_coef_values.append(coef)\n",
    "eta_coef_values"
   ],
   "metadata": {
    "collapsed": false,
    "pycharm": {
     "name": "#%%\n"
    }
   }
  },
  {
   "cell_type": "code",
   "execution_count": 69,
   "outputs": [
    {
     "data": {
      "text/plain": "[0.038734791922842245, 0.0010400224772086771, 0.10818648779467475]"
     },
     "execution_count": 69,
     "metadata": {},
     "output_type": "execute_result"
    }
   ],
   "source": [
    "cramers_v_values = []\n",
    "for col in cat_columns[1:]:\n",
    "    contingency_table = pd.crosstab(sleep['Enough'], sleep[col])\n",
    "    cramers_v_values.append(get_cramers_v(contingency_table))\n",
    "cramers_v_values"
   ],
   "metadata": {
    "collapsed": false,
    "pycharm": {
     "name": "#%%\n"
    }
   }
  },
  {
   "cell_type": "code",
   "execution_count": 83,
   "outputs": [],
   "source": [
    "assoc_strengths = ['Strong', 'Moderate', 'Weak', 'Very weak']\n",
    "cramers_strengths_values = [assoc_strengths[0] if val > 0.5 else\n",
    "                          assoc_strengths[1] if val > 0.3 else\n",
    "                          assoc_strengths[2] if val > 0.1 else\n",
    "                          assoc_strengths[3] for val in cramers_v_values]\n",
    "eta_strengths_values = [assoc_strengths[0] if val > 0.2 else\n",
    "                          assoc_strengths[1] if val > 0.4 else\n",
    "                          assoc_strengths[2] if val > 0.7 else\n",
    "                          assoc_strengths[3] for val in eta_coef_values]\n",
    "\n",
    "# assoc_strengths_values = cramers_strengths_values.append(eta_strengths_values)\n",
    "# assoc_strengths_values"
   ],
   "metadata": {
    "collapsed": false,
    "pycharm": {
     "name": "#%%\n"
    }
   }
  },
  {
   "cell_type": "code",
   "execution_count": 77,
   "outputs": [
    {
     "data": {
      "text/plain": "['Strong', 'Strong']"
     },
     "execution_count": 77,
     "metadata": {},
     "output_type": "execute_result"
    }
   ],
   "source": [
    "cramers_strengths_values\n",
    "eta_strengths_values"
   ],
   "metadata": {
    "collapsed": false,
    "pycharm": {
     "name": "#%%\n"
    }
   }
  },
  {
   "cell_type": "code",
   "execution_count": 90,
   "outputs": [
    {
     "data": {
      "text/plain": "  Sleep Features  Cramers V & Eta Coef Scores Association Strength\n4          Tired                     0.410416               Strong\n3          Hours                     0.380740               Strong\n2      Breakfast                     0.108186                 Weak\n0     PhoneReach                     0.038735            Very weak\n1      PhoneTime                     0.001040            Very weak",
      "text/html": "<div>\n<style scoped>\n    .dataframe tbody tr th:only-of-type {\n        vertical-align: middle;\n    }\n\n    .dataframe tbody tr th {\n        vertical-align: top;\n    }\n\n    .dataframe thead th {\n        text-align: right;\n    }\n</style>\n<table border=\"1\" class=\"dataframe\">\n  <thead>\n    <tr style=\"text-align: right;\">\n      <th></th>\n      <th>Sleep Features</th>\n      <th>Cramers V &amp; Eta Coef Scores</th>\n      <th>Association Strength</th>\n    </tr>\n  </thead>\n  <tbody>\n    <tr>\n      <th>4</th>\n      <td>Tired</td>\n      <td>0.410416</td>\n      <td>Strong</td>\n    </tr>\n    <tr>\n      <th>3</th>\n      <td>Hours</td>\n      <td>0.380740</td>\n      <td>Strong</td>\n    </tr>\n    <tr>\n      <th>2</th>\n      <td>Breakfast</td>\n      <td>0.108186</td>\n      <td>Weak</td>\n    </tr>\n    <tr>\n      <th>0</th>\n      <td>PhoneReach</td>\n      <td>0.038735</td>\n      <td>Very weak</td>\n    </tr>\n    <tr>\n      <th>1</th>\n      <td>PhoneTime</td>\n      <td>0.001040</td>\n      <td>Very weak</td>\n    </tr>\n  </tbody>\n</table>\n</div>"
     },
     "execution_count": 90,
     "metadata": {},
     "output_type": "execute_result"
    }
   ],
   "source": [
    "features = cat_columns[1:] + num_columns\n",
    "assoc_strengths_values = cramers_v_values + eta_coef_values\n",
    "assoc_strengths = cramers_strengths_values + eta_strengths_values\n",
    "\n",
    "sleep_relations = pd.DataFrame({\n",
    "    'Sleep Features':features,\n",
    "    'Cramers V & Eta Coef Scores':assoc_strengths_values,\n",
    "    'Association Strength': assoc_strengths\n",
    "}).sort_values(by='Cramers V & Eta Coef Scores', ascending=False)\n",
    "sleep_relations"
   ],
   "metadata": {
    "collapsed": false,
    "pycharm": {
     "name": "#%%\n"
    }
   }
  },
  {
   "cell_type": "code",
   "execution_count": 98,
   "outputs": [
    {
     "data": {
      "text/plain": "<matplotlib.legend.Legend at 0x7fae0ba0aa30>"
     },
     "execution_count": 98,
     "metadata": {},
     "output_type": "execute_result"
    },
    {
     "data": {
      "text/plain": "<Figure size 1080x1080 with 1 Axes>",
      "image/png": "[encoded data removed]"
     },
     "metadata": {},
     "output_type": "display_data"
    }
   ],
   "source": [
    "plt.figure(figsize=(15,15))\n",
    "sns.barplot(data=sleep_relations, y='Sleep Features', x='Cramers V & Eta Coef Scores', hue='Association Strength')\n",
    "sns.despine(left=True, bottom=True)\n",
    "plt.title('Feature Association with Having Enough Sleep', fontsize=20)\n",
    "plt.tight_layout()\n",
    "plt.legend(fontsize=20, loc=4)"
   ],
   "metadata": {
    "collapsed": false,
    "pycharm": {
     "name": "#%%\n"
    }
   }
  },
  {
   "cell_type": "markdown",
   "source": [
    "* seems obvious but number of hours of sleep had the most influence in determining whether an individual felt they\n",
    "had enough sleep or not; along with how tired individuals felt throughtout the day\n",
    "* phone reach, and phone time did not seem to have much influence towards feeling of getting ample amount of\n",
    "sleep\n",
    "* Breakfast appears to have a weak influence"
   ],
   "metadata": {
    "collapsed": false,
    "pycharm": {
     "name": "#%% md\n"
    }
   }
  },
  {
   "cell_type": "code",
   "execution_count": 99,
   "outputs": [
    {
     "data": {
      "text/plain": "['Enough', 'Hours', 'PhoneReach', 'PhoneTime', 'Tired', 'Breakfast']"
     },
     "execution_count": 99,
     "metadata": {},
     "output_type": "execute_result"
    }
   ],
   "source": [],
   "metadata": {
    "collapsed": false,
    "pycharm": {
     "name": "#%%\n"
    }
   }
  }
 ],
 "metadata": {
  "kernelspec": {
   "display_name": "Python 3",
   "language": "python",
   "name": "python3"
  },
  "language_info": {
   "codemirror_mode": {
    "name": "ipython",
    "version": 2
   },
   "file_extension": ".py",
   "mimetype": "text/x-python",
   "name": "python",
   "nbconvert_exporter": "python",
   "pygments_lexer": "ipython2",
   "version": "2.7.6"
  }
 },
 "nbformat": 4,
 "nbformat_minor": 0
}
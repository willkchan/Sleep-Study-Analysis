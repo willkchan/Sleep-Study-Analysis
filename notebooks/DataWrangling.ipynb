{
 "cells": [
  {
   "cell_type": "code",
   "execution_count": 9,
   "metadata": {
    "collapsed": true
   },
   "outputs": [],
   "source": [
    "import pandas as pd\n",
    "from IPython.core.display import display"
   ]
  },
  {
   "cell_type": "code",
   "execution_count": 10,
   "outputs": [],
   "source": [
    "sleep = pd.read_csv('../data/SleepStudyData.csv')"
   ],
   "metadata": {
    "collapsed": false,
    "pycharm": {
     "name": "#%%\n"
    }
   }
  },
  {
   "cell_type": "markdown",
   "source": [
    "Description of data\n",
    "\n",
    "- Enough = Do you think that you get enough sleep?\n",
    "- Hours = On average, how many hours of sleep do you get on a weeknight?\n",
    "- PhoneReach = Do you sleep with your phone within arms reach?\n",
    "- PhoneTime = Do you use your phone within 30 minutes of falling asleep?\n",
    "- Tired = On a scale from 1 to 5, how tired are you throughout the day? (1 being not tired, 5 being very tired)\n",
    "- Breakfast = Do you typically eat breakfast?\n"
   ],
   "metadata": {
    "collapsed": false,
    "pycharm": {
     "name": "#%% md\n"
    }
   }
  },
  {
   "cell_type": "code",
   "execution_count": 11,
   "outputs": [
    {
     "data": {
      "text/plain": "  Enough  Hours PhoneReach PhoneTime  Tired Breakfast\n0    Yes    8.0        Yes       Yes      3       Yes\n1     No    6.0        Yes       Yes      3        No\n2    Yes    6.0        Yes       Yes      2       Yes\n3     No    7.0        Yes       Yes      4        No\n4     No    7.0        Yes       Yes      2       Yes",
      "text/html": "<div>\n<style scoped>\n    .dataframe tbody tr th:only-of-type {\n        vertical-align: middle;\n    }\n\n    .dataframe tbody tr th {\n        vertical-align: top;\n    }\n\n    .dataframe thead th {\n        text-align: right;\n    }\n</style>\n<table border=\"1\" class=\"dataframe\">\n  <thead>\n    <tr style=\"text-align: right;\">\n      <th></th>\n      <th>Enough</th>\n      <th>Hours</th>\n      <th>PhoneReach</th>\n      <th>PhoneTime</th>\n      <th>Tired</th>\n      <th>Breakfast</th>\n    </tr>\n  </thead>\n  <tbody>\n    <tr>\n      <th>0</th>\n      <td>Yes</td>\n      <td>8.0</td>\n      <td>Yes</td>\n      <td>Yes</td>\n      <td>3</td>\n      <td>Yes</td>\n    </tr>\n    <tr>\n      <th>1</th>\n      <td>No</td>\n      <td>6.0</td>\n      <td>Yes</td>\n      <td>Yes</td>\n      <td>3</td>\n      <td>No</td>\n    </tr>\n    <tr>\n      <th>2</th>\n      <td>Yes</td>\n      <td>6.0</td>\n      <td>Yes</td>\n      <td>Yes</td>\n      <td>2</td>\n      <td>Yes</td>\n    </tr>\n    <tr>\n      <th>3</th>\n      <td>No</td>\n      <td>7.0</td>\n      <td>Yes</td>\n      <td>Yes</td>\n      <td>4</td>\n      <td>No</td>\n    </tr>\n    <tr>\n      <th>4</th>\n      <td>No</td>\n      <td>7.0</td>\n      <td>Yes</td>\n      <td>Yes</td>\n      <td>2</td>\n      <td>Yes</td>\n    </tr>\n  </tbody>\n</table>\n</div>"
     },
     "metadata": {},
     "output_type": "display_data"
    }
   ],
   "source": [
    "display(sleep.head())"
   ],
   "metadata": {
    "collapsed": false,
    "pycharm": {
     "name": "#%%\n"
    }
   }
  },
  {
   "cell_type": "code",
   "execution_count": 20,
   "outputs": [
    {
     "name": "stdout",
     "output_type": "stream",
     "text": [
      "(104, 6)\n",
      "Enough        0\n",
      "Hours         2\n",
      "PhoneReach    0\n",
      "PhoneTime     0\n",
      "Tired         0\n",
      "Breakfast     0\n",
      "dtype: int64\n",
      "\n",
      "\n",
      "Enough ['Yes' 'No']\n",
      "Hours [ 8.  6.  7.  4. 10.  9.  2.  5. nan]\n",
      "PhoneReach ['Yes' 'No']\n",
      "PhoneTime ['Yes' 'No']\n",
      "Tired [3 2 4 5 1]\n",
      "Breakfast ['Yes' 'No']\n"
     ]
    }
   ],
   "source": [
    "# check for missing values\n",
    "\n",
    "print(sleep.shape)\n",
    "print(sleep.isnull().sum())\n",
    "print('\\n')\n",
    "\n",
    "# check whether any missing or error values\n",
    "for col in sleep.columns.tolist():\n",
    "    print(col, sleep[col].unique())"
   ],
   "metadata": {
    "collapsed": false,
    "pycharm": {
     "name": "#%%\n"
    }
   }
  },
  {
   "cell_type": "code",
   "execution_count": 47,
   "outputs": [
    {
     "name": "stdout",
     "output_type": "stream",
     "text": [
      "Enough        0.000000\n",
      "Hours         0.019231\n",
      "PhoneReach    0.000000\n",
      "PhoneTime     0.000000\n",
      "Tired         0.000000\n",
      "Breakfast     0.000000\n",
      "dtype: float64\n"
     ]
    },
    {
     "data": {
      "text/plain": "Enough        0\nHours         0\nPhoneReach    0\nPhoneTime     0\nTired         0\nBreakfast     0\ndtype: int64"
     },
     "execution_count": 47,
     "metadata": {},
     "output_type": "execute_result"
    }
   ],
   "source": [
    "# check where missing values in sleep\n",
    "\n",
    "missing_hours = sleep.loc[sleep['Hours'].isnull()]\n",
    "print(sleep.isnull().sum() / len(sleep))\n",
    "\n",
    "# decide to drop this missing values as its < 2% of total records\n",
    "sleep.drop(missing_hours.index, inplace=True)\n",
    "sleep.isnull().sum()"
   ],
   "metadata": {
    "collapsed": false,
    "pycharm": {
     "name": "#%%\n"
    }
   }
  },
  {
   "cell_type": "code",
   "execution_count": null,
   "outputs": [],
   "source": [],
   "metadata": {
    "collapsed": false,
    "pycharm": {
     "name": "#%%\n"
    }
   }
  }
 ],
 "metadata": {
  "kernelspec": {
   "display_name": "Python 3",
   "language": "python",
   "name": "python3"
  },
  "language_info": {
   "codemirror_mode": {
    "name": "ipython",
    "version": 2
   },
   "file_extension": ".py",
   "mimetype": "text/x-python",
   "name": "python",
   "nbconvert_exporter": "python",
   "pygments_lexer": "ipython2",
   "version": "2.7.6"
  }
 },
 "nbformat": 4,
 "nbformat_minor": 0
}
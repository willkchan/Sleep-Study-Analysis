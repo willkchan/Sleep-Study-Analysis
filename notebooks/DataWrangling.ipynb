{
 "cells": [
  {
   "cell_type": "code",
   "execution_count": 23,
   "metadata": {
    "collapsed": true
   },
   "outputs": [],
   "source": [
    "import pandas as pd\n",
    "import numpy as np\n",
    "import seaborn as sns\n",
    "import matplotlib.pyplot as plt\n",
    "\n",
    "plt.style.use('dark_background')\n",
    "from IPython.core.display import display\n"
   ]
  },
  {
   "cell_type": "code",
   "execution_count": 2,
   "outputs": [],
   "source": [
    "sleep = pd.read_csv('../data/SleepStudyData.csv')"
   ],
   "metadata": {
    "collapsed": false,
    "pycharm": {
     "name": "#%%\n"
    }
   }
  },
  {
   "cell_type": "markdown",
   "source": [
    "Description of data\n",
    "\n",
    "- Enough = Do you think that you get enough sleep?\n",
    "- Hours = On average, how many hours of sleep do you get on a weeknight?\n",
    "- PhoneReach = Do you sleep with your phone within arms reach?\n",
    "- PhoneTime = Do you use your phone within 30 minutes of falling asleep?\n",
    "- Tired = On a scale from 1 to 5, how tired are you throughout the day? (1 being not tired, 5 being very tired)\n",
    "- Breakfast = Do you typically eat breakfast?\n"
   ],
   "metadata": {
    "collapsed": false,
    "pycharm": {
     "name": "#%% md\n"
    }
   }
  },
  {
   "cell_type": "code",
   "execution_count": 3,
   "outputs": [
    {
     "data": {
      "text/plain": "  Enough  Hours PhoneReach PhoneTime  Tired Breakfast\n0    Yes    8.0        Yes       Yes      3       Yes\n1     No    6.0        Yes       Yes      3        No\n2    Yes    6.0        Yes       Yes      2       Yes\n3     No    7.0        Yes       Yes      4        No\n4     No    7.0        Yes       Yes      2       Yes",
      "text/html": "<div>\n<style scoped>\n    .dataframe tbody tr th:only-of-type {\n        vertical-align: middle;\n    }\n\n    .dataframe tbody tr th {\n        vertical-align: top;\n    }\n\n    .dataframe thead th {\n        text-align: right;\n    }\n</style>\n<table border=\"1\" class=\"dataframe\">\n  <thead>\n    <tr style=\"text-align: right;\">\n      <th></th>\n      <th>Enough</th>\n      <th>Hours</th>\n      <th>PhoneReach</th>\n      <th>PhoneTime</th>\n      <th>Tired</th>\n      <th>Breakfast</th>\n    </tr>\n  </thead>\n  <tbody>\n    <tr>\n      <th>0</th>\n      <td>Yes</td>\n      <td>8.0</td>\n      <td>Yes</td>\n      <td>Yes</td>\n      <td>3</td>\n      <td>Yes</td>\n    </tr>\n    <tr>\n      <th>1</th>\n      <td>No</td>\n      <td>6.0</td>\n      <td>Yes</td>\n      <td>Yes</td>\n      <td>3</td>\n      <td>No</td>\n    </tr>\n    <tr>\n      <th>2</th>\n      <td>Yes</td>\n      <td>6.0</td>\n      <td>Yes</td>\n      <td>Yes</td>\n      <td>2</td>\n      <td>Yes</td>\n    </tr>\n    <tr>\n      <th>3</th>\n      <td>No</td>\n      <td>7.0</td>\n      <td>Yes</td>\n      <td>Yes</td>\n      <td>4</td>\n      <td>No</td>\n    </tr>\n    <tr>\n      <th>4</th>\n      <td>No</td>\n      <td>7.0</td>\n      <td>Yes</td>\n      <td>Yes</td>\n      <td>2</td>\n      <td>Yes</td>\n    </tr>\n  </tbody>\n</table>\n</div>"
     },
     "metadata": {},
     "output_type": "display_data"
    }
   ],
   "source": [
    "display(sleep.head())"
   ],
   "metadata": {
    "collapsed": false,
    "pycharm": {
     "name": "#%%\n"
    }
   }
  },
  {
   "cell_type": "code",
   "execution_count": 4,
   "outputs": [
    {
     "name": "stdout",
     "output_type": "stream",
     "text": [
      "(104, 6)\n",
      "Enough        0\n",
      "Hours         2\n",
      "PhoneReach    0\n",
      "PhoneTime     0\n",
      "Tired         0\n",
      "Breakfast     0\n",
      "dtype: int64\n",
      "\n",
      "\n",
      "Enough ['Yes' 'No']\n",
      "Hours [ 8.  6.  7.  4. 10.  9.  2.  5. nan]\n",
      "PhoneReach ['Yes' 'No']\n",
      "PhoneTime ['Yes' 'No']\n",
      "Tired [3 2 4 5 1]\n",
      "Breakfast ['Yes' 'No']\n"
     ]
    }
   ],
   "source": [
    "# check for missing values\n",
    "\n",
    "print(sleep.shape)\n",
    "print(sleep.isnull().sum())\n",
    "print('\\n')\n",
    "\n",
    "# check whether any missing or error values\n",
    "for col in sleep.columns.tolist():\n",
    "    print(col, sleep[col].unique())"
   ],
   "metadata": {
    "collapsed": false,
    "pycharm": {
     "name": "#%%\n"
    }
   }
  },
  {
   "cell_type": "code",
   "execution_count": 5,
   "outputs": [
    {
     "name": "stdout",
     "output_type": "stream",
     "text": [
      "Enough        0.000000\n",
      "Hours         0.019231\n",
      "PhoneReach    0.000000\n",
      "PhoneTime     0.000000\n",
      "Tired         0.000000\n",
      "Breakfast     0.000000\n",
      "dtype: float64\n"
     ]
    },
    {
     "data": {
      "text/plain": "Enough        0\nHours         0\nPhoneReach    0\nPhoneTime     0\nTired         0\nBreakfast     0\ndtype: int64"
     },
     "execution_count": 5,
     "metadata": {},
     "output_type": "execute_result"
    }
   ],
   "source": [
    "# check where missing values in sleep\n",
    "\n",
    "missing_hours = sleep.loc[sleep['Hours'].isnull()]\n",
    "print(sleep.isnull().sum() / len(sleep))\n",
    "\n",
    "# decide to drop this missing values as its < 2% of total records\n",
    "sleep.drop(missing_hours.index, inplace=True)\n",
    "sleep.isnull().sum()"
   ],
   "metadata": {
    "collapsed": false,
    "pycharm": {
     "name": "#%%\n"
    }
   }
  },
  {
   "cell_type": "code",
   "execution_count": 12,
   "outputs": [
    {
     "data": {
      "text/plain": "Enough         object\nHours         float64\nPhoneReach     object\nPhoneTime      object\nTired           int64\nBreakfast      object\ndtype: object"
     },
     "execution_count": 12,
     "metadata": {},
     "output_type": "execute_result"
    }
   ],
   "source": [
    "# check dtypes and see if any conversion needed\n",
    "sleep.dtypes\n"
   ],
   "metadata": {
    "collapsed": false,
    "pycharm": {
     "name": "#%%\n"
    }
   }
  },
  {
   "cell_type": "markdown",
   "source": [
    "Dtypes were checked to make sure there would not be any interference in future options with data.\n",
    "\n",
    "Often I would convert object to string dtype but because intent of this notebook is storytelling and object dtype will\n",
    "not disrupt other operations this will not be changed for now.\n",
    "\n",
    "Next step is look at column distributions indvidually before proceeding wiht more eda operations"
   ],
   "metadata": {
    "collapsed": false,
    "pycharm": {
     "name": "#%% md\n"
    }
   }
  },
  {
   "cell_type": "code",
   "execution_count": 24,
   "outputs": [
    {
     "name": "stdout",
     "output_type": "stream",
     "text": [
      "['Enough', 'Hours', 'PhoneReach', 'PhoneTime', 'Tired', 'Breakfast']\n"
     ]
    },
    {
     "data": {
      "text/plain": "<Figure size 432x288 with 1 Axes>",
      "image/png": "[encoded data removed]"
     },
     "metadata": {},
     "output_type": "display_data"
    },
    {
     "data": {
      "text/plain": "<Figure size 432x288 with 1 Axes>",
      "image/png": "[encoded data removed]"
     },
     "metadata": {},
     "output_type": "display_data"
    },
    {
     "data": {
      "text/plain": "<Figure size 432x288 with 1 Axes>",
      "image/png": "[encoded data removed]"
     },
     "metadata": {},
     "output_type": "display_data"
    },
    {
     "data": {
      "text/plain": "<Figure size 432x288 with 1 Axes>",
      "image/png": "[encoded data removed]"
     },
     "metadata": {},
     "output_type": "display_data"
    },
    {
     "data": {
      "text/plain": "<Figure size 432x288 with 1 Axes>",
      "image/png": "[encoded data removed]"
     },
     "metadata": {},
     "output_type": "display_data"
    },
    {
     "data": {
      "text/plain": "<Figure size 432x288 with 1 Axes>",
      "image/png": "[encoded data removed]"
     },
     "metadata": {},
     "output_type": "display_data"
    }
   ],
   "source": [
    "# make plots to show distribution of column data\n",
    "sleep_columns = sleep.columns.tolist()\n",
    "\n",
    "for col in sleep_columns:\n",
    "    sns.countplot(data=sleep, x=col)\n",
    "    plt.show()"
   ],
   "metadata": {
    "collapsed": false,
    "pycharm": {
     "name": "#%%\n"
    }
   }
  },
  {
   "cell_type": "markdown",
   "source": [
    "* distribution viewing gives us a little bit context in our problem (?q question would there be a better way to present\n",
    "this info in a more digestible manner rather than many countplots?)\n",
    "* It appears that hours and tired have normal distributions\n",
    "* whereas in the nominal columns we have some skew\n",
    "* PhoneReach, PhoneTime, Breakfast tend to be yes whereas Enough sleep tend to be No\n",
    "\n",
    "Next will try to perform some clustering"
   ],
   "metadata": {
    "collapsed": false,
    "pycharm": {
     "name": "#%% md\n"
    }
   }
  },
  {
   "cell_type": "code",
   "execution_count": 9,
   "outputs": [
    {
     "data": {
      "text/plain": "    Enough  Hours PhoneReach PhoneTime  Tired Breakfast\n0      Yes    8.0        Yes       Yes      3       Yes\n1       No    6.0        Yes       Yes      3        No\n2      Yes    6.0        Yes       Yes      2       Yes\n3       No    7.0        Yes       Yes      4        No\n4       No    7.0        Yes       Yes      2       Yes\n..     ...    ...        ...       ...    ...       ...\n99      No    7.0        Yes       Yes      2       Yes\n100     No    7.0         No       Yes      3       Yes\n101    Yes    8.0        Yes       Yes      3       Yes\n102    Yes    7.0        Yes       Yes      2       Yes\n103    Yes    6.0        Yes       Yes      3       Yes\n\n[102 rows x 6 columns]",
      "text/html": "<div>\n<style scoped>\n    .dataframe tbody tr th:only-of-type {\n        vertical-align: middle;\n    }\n\n    .dataframe tbody tr th {\n        vertical-align: top;\n    }\n\n    .dataframe thead th {\n        text-align: right;\n    }\n</style>\n<table border=\"1\" class=\"dataframe\">\n  <thead>\n    <tr style=\"text-align: right;\">\n      <th></th>\n      <th>Enough</th>\n      <th>Hours</th>\n      <th>PhoneReach</th>\n      <th>PhoneTime</th>\n      <th>Tired</th>\n      <th>Breakfast</th>\n    </tr>\n  </thead>\n  <tbody>\n    <tr>\n      <th>0</th>\n      <td>Yes</td>\n      <td>8.0</td>\n      <td>Yes</td>\n      <td>Yes</td>\n      <td>3</td>\n      <td>Yes</td>\n    </tr>\n    <tr>\n      <th>1</th>\n      <td>No</td>\n      <td>6.0</td>\n      <td>Yes</td>\n      <td>Yes</td>\n      <td>3</td>\n      <td>No</td>\n    </tr>\n    <tr>\n      <th>2</th>\n      <td>Yes</td>\n      <td>6.0</td>\n      <td>Yes</td>\n      <td>Yes</td>\n      <td>2</td>\n      <td>Yes</td>\n    </tr>\n    <tr>\n      <th>3</th>\n      <td>No</td>\n      <td>7.0</td>\n      <td>Yes</td>\n      <td>Yes</td>\n      <td>4</td>\n      <td>No</td>\n    </tr>\n    <tr>\n      <th>4</th>\n      <td>No</td>\n      <td>7.0</td>\n      <td>Yes</td>\n      <td>Yes</td>\n      <td>2</td>\n      <td>Yes</td>\n    </tr>\n    <tr>\n      <th>...</th>\n      <td>...</td>\n      <td>...</td>\n      <td>...</td>\n      <td>...</td>\n      <td>...</td>\n      <td>...</td>\n    </tr>\n    <tr>\n      <th>99</th>\n      <td>No</td>\n      <td>7.0</td>\n      <td>Yes</td>\n      <td>Yes</td>\n      <td>2</td>\n      <td>Yes</td>\n    </tr>\n    <tr>\n      <th>100</th>\n      <td>No</td>\n      <td>7.0</td>\n      <td>No</td>\n      <td>Yes</td>\n      <td>3</td>\n      <td>Yes</td>\n    </tr>\n    <tr>\n      <th>101</th>\n      <td>Yes</td>\n      <td>8.0</td>\n      <td>Yes</td>\n      <td>Yes</td>\n      <td>3</td>\n      <td>Yes</td>\n    </tr>\n    <tr>\n      <th>102</th>\n      <td>Yes</td>\n      <td>7.0</td>\n      <td>Yes</td>\n      <td>Yes</td>\n      <td>2</td>\n      <td>Yes</td>\n    </tr>\n    <tr>\n      <th>103</th>\n      <td>Yes</td>\n      <td>6.0</td>\n      <td>Yes</td>\n      <td>Yes</td>\n      <td>3</td>\n      <td>Yes</td>\n    </tr>\n  </tbody>\n</table>\n<p>102 rows × 6 columns</p>\n</div>"
     },
     "execution_count": 9,
     "metadata": {},
     "output_type": "execute_result"
    }
   ],
   "source": [
    "# perform clustering than perform correlation and cramers v\n",
    "sleep\n"
   ],
   "metadata": {
    "collapsed": false,
    "pycharm": {
     "name": "#%%\n"
    }
   }
  }
 ],
 "metadata": {
  "kernelspec": {
   "display_name": "Python 3",
   "language": "python",
   "name": "python3"
  },
  "language_info": {
   "codemirror_mode": {
    "name": "ipython",
    "version": 2
   },
   "file_extension": ".py",
   "mimetype": "text/x-python",
   "name": "python",
   "nbconvert_exporter": "python",
   "pygments_lexer": "ipython2",
   "version": "2.7.6"
  }
 },
 "nbformat": 4,
 "nbformat_minor": 0
}